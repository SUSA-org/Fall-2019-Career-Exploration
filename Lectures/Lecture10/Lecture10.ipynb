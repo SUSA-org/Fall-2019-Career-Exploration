{
 "cells": [
  {
   "cell_type": "code",
   "execution_count": 1,
   "metadata": {
    "ExecuteTime": {
     "end_time": "2019-11-24T18:26:00.706413Z",
     "start_time": "2019-11-24T18:25:59.803393Z"
    }
   },
   "outputs": [],
   "source": [
    "import matplotlib.pyplot as plt\n",
    "%matplotlib inline\n",
    "import numpy as np\n",
    "plt.rcParams[\"figure.figsize\"] = [15.0, 10.0]"
   ]
  },
  {
   "cell_type": "markdown",
   "metadata": {},
   "source": [
    "# Lecture 10: Neural Networks\n",
    "## 11/24/19\n",
    "\n",
    "### Table Of Contents\n",
    "1. [Activations and the Motivation behind Neural Networks](#section1)  \n",
    "    1.1 [Function Composition](#section1.1)  \n",
    "    1.2 [Nonlinear Demo](#section1.2)  \n",
    "    1.3 [Other Activation Functions](#section1.3)  \n",
    "    1.4 [How Neural Networks learn](#section1.4)  \n",
    "2. [Neural Networks](#section2)  \n",
    "    2.1 [The Single Neuron](#section2.1)  \n",
    "    2.2 [Feedforward](#section2.2)\n",
    "3. [Gradient Descent, Learning](#section3) <br>\n",
    "    3.1 [Gradient Descent Algorithm](#section3.1) <br>\n",
    "    3.2 [Loss Functions](#section3.2) <br>\n",
    "    3.3 [Softmax](#section3.3) <br>\n",
    "    3.4 [Regularization, Dropout](#section3.4) <br>\n",
    "4. [Intro to Keras](#section4) <br>\n",
    "    4.1 [Understanding the MNIST Dataset](#section4.1) <br>\n",
    "    4.2 [The Sequential Model](#section4.2) <br>\n",
    "    4.3 [Compilation](#section4.3) <br>\n",
    "    4.4 [Training](#section4.4) <br>\n",
    "    4.5 [Evaluation](#section4.5) <br>\n",
    "    4.6 [Prediction](#section4.6) <br>\n",
    "    4.7 [Examples of Mis-Classified images](#section4.7)\n",
    "\n",
    "### Hosted by and maintained by the [Statistics Undergraduate Students Association (SUSA)](http://susa.berkeley.edu) (Authored by Ajay Raj)"
   ]
  },
  {
   "cell_type": "markdown",
   "metadata": {},
   "source": [
    "<a id='section1'></a>\n",
    "## Activations and the Motivation behind Neural Networks"
   ]
  },
  {
   "cell_type": "markdown",
   "metadata": {},
   "source": [
    "So far, you've been exposed to **linear models** (and decision trees, which aren't really linear or nonlinear, but that's beside the point). That is, the models you've seen look as follows:\n",
    "\n",
    "$$h(x) = f(w^T x + b)$$\n",
    "\n",
    "Here, $h(x)$ is your prediction for the training point $x$, and $f$ is some function that maps the output of the affine function $w^T x + b$ to look like the output space. For example, for a classification task, you could take the sign of the output (if positive, return class 1, if negative, return class 0)."
   ]
  },
  {
   "cell_type": "markdown",
   "metadata": {},
   "source": [
    "However, if you remember, you can try to learn **nonlinear functions** by having **nonlinear features**. For example, if you are trying to use regression to fit to a polynomial of a single feature $x$, $f(x) = a_0 x^0 + a_1 x^1 + a_2 x^2 + ... + a_n x^n$, then you can use linear regression if you transform your feature $x$ into the features $\\begin{bmatrix} x^0 & x^1 & ... & x^n \\end{bmatrix}$.\n",
    "\n",
    "In the real world, however, you don't know if your data is polynomial, or sinusoidal, etc., so you do **not** know the transformation to **nonlinear features** needed to fit your model."
   ]
  },
  {
   "cell_type": "markdown",
   "metadata": {},
   "source": [
    "<a id='section1.1'></a>\n",
    "### Function Composition"
   ]
  },
  {
   "cell_type": "markdown",
   "metadata": {},
   "source": [
    "*There is no way to \"increase the complexity\" of a linear model* i.e. linear models can never get more complicated than a linear combination of the features. That is, even if you chain together a bunch of linear functions, the complexity of the model will not increase.\n",
    "\n",
    "Say that your features are $x_1, ..., x_n$ and two linear functions $f$ and $g$. Your model for $y = h(x_1, ..., x_n)$ could be $f(g(x_1, ..., x_n))$, but since $f$ and $g$ are of the form $f(x_1, ..., x_n) = \\sum a_i x_i$ and $g(x_1, ..., x_n) = \\sum b_i x_i$, the output of the composition will be $\\sum c_i x_i$, so there was no added complexity of chaining these two \"learned\" functions together."
   ]
  },
  {
   "cell_type": "markdown",
   "metadata": {},
   "source": [
    "However, compositions of **nonlinear functions** *do* increase the complexity of the overall model."
   ]
  },
  {
   "cell_type": "markdown",
   "metadata": {},
   "source": [
    "<a id='section1.2'></a>\n",
    "\n",
    "### Nonlinear Demo\n",
    "\n",
    "Say we are trying to learn the function $f(x) = \\cos{x}$ on the interval $[-\\pi, \\pi]$. (Note: for this demo, we'll assume that the training points $x$ are centered about 0 for convenience)."
   ]
  },
  {
   "cell_type": "code",
   "execution_count": 2,
   "metadata": {
    "ExecuteTime": {
     "end_time": "2019-11-24T18:26:01.080009Z",
     "start_time": "2019-11-24T18:26:00.711827Z"
    }
   },
   "outputs": [
    {
     "data": {
      "image/png": "[encoded data removed]",
      "text/plain": [
       "<Figure size 432x288 with 1 Axes>"
      ]
     },
     "metadata": {
      "needs_background": "light"
     },
     "output_type": "display_data"
    }
   ],
   "source": [
    "x = np.arange(-np.pi, np.pi, 0.01)\n",
    "y = np.cos(x)\n",
    "\n",
    "plt.plot(x, y)\n",
    "xlim = plt.xlim()\n",
    "ylim = plt.ylim()"
   ]
  },
  {
   "cell_type": "markdown",
   "metadata": {},
   "source": [
    "##### ReLU (Rectified Linear Unit)\n",
    "\n",
    "The most simple nonlinear function is called **ReLU** or rectified linear unit, and is defined as $\\text{ReLU}(x) = \\max(0, x)$."
   ]
  },
  {
   "cell_type": "code",
   "execution_count": 3,
   "metadata": {
    "ExecuteTime": {
     "end_time": "2019-11-24T18:26:01.475943Z",
     "start_time": "2019-11-24T18:26:01.086758Z"
    }
   },
   "outputs": [
    {
     "data": {
      "image/png": "[encoded data removed]",
      "text/plain": [
       "<Figure size 432x288 with 1 Axes>"
      ]
     },
     "metadata": {
      "needs_background": "light"
     },
     "output_type": "display_data"
    }
   ],
   "source": [
    "x_relu = np.arange(-1, 1, 0.05)\n",
    "plt.plot(x_relu, np.maximum(x_relu, np.zeros(x_relu.shape)));"
   ]
  },
  {
   "cell_type": "markdown",
   "metadata": {},
   "source": [
    "We will use ReLUs to approximate this function, with the model (where $N$ is the number of ReLU or linear units:\n",
    "\n",
    "$$\\hat{y}_1 = \\sum_{i = 1}^N a_i \\cdot \\text{ReLU}(b_i + c_i \\cdot x)$$\n",
    "\n",
    "We'll contrast this model with another that can only use linear functions:\n",
    "\n",
    "$$\\hat{y}_2 = \\sum_{i = 1}^N a_i \\cdot (b_i + c_i \\cdot x)$$"
   ]
  },
  {
   "cell_type": "code",
   "execution_count": 4,
   "metadata": {
    "ExecuteTime": {
     "end_time": "2019-11-24T18:26:01.715864Z",
     "start_time": "2019-11-24T18:26:01.488913Z"
    }
   },
   "outputs": [],
   "source": [
    "from relus import train\n",
    "\n",
    "f_nonlinear = train(x, y, mode='nonlinear')\n",
    "f_linear = train(x, y, mode='linear')"
   ]
  },
  {
   "cell_type": "code",
   "execution_count": 5,
   "metadata": {
    "ExecuteTime": {
     "end_time": "2019-11-24T18:26:02.205996Z",
     "start_time": "2019-11-24T18:26:01.719583Z"
    }
   },
   "outputs": [
    {
     "data": {
      "image/png": "[encoded data removed]",
      "text/plain": [
       "<Figure size 432x288 with 1 Axes>"
      ]
     },
     "metadata": {
      "needs_background": "light"
     },
     "output_type": "display_data"
    }
   ],
   "source": [
    "y_hat_nonlinear = np.zeros(y.shape)\n",
    "y_hat_linear = np.zeros(y.shape)\n",
    "for i, x_i in enumerate(x):\n",
    "    y_hat_nonlinear[i] = f_nonlinear(x_i)\n",
    "    y_hat_linear[i] = f_linear(x_i)\n",
    "plt.plot(x, y, label='Ground Truth')\n",
    "plt.plot(x, y_hat_nonlinear, label='ReLU Composition')\n",
    "plt.plot(x, y_hat_linear, label='Linear Composition')\n",
    "plt.legend();"
   ]
  },
  {
   "cell_type": "markdown",
   "metadata": {},
   "source": [
    "As you can see, the nonlinear composition model just blew the linear composition model out of the water! This is a **huge** deal, because it means we can now learn complex functions with composition of linear functions (and not by *manually* introducing features). Here's a GIF of the ReLUs being trained:\n",
    "\n",
    "<img src='IMAGES/neurons.gif'></img>\n",
    "\n",
    "In fact, the **universal approximation theorem** says that you can use function composition with nonlinear functions to approximate *any* continuous function (with a few extra mild assumptions). As we increase the number of ReLUs we use, we can get arbitrarily close to any continuous function.\n",
    "\n",
    "The primary idea behind neural networks is using **nonlinear function composition** to *learn* the best features for the model."
   ]
  },
  {
   "cell_type": "markdown",
   "metadata": {},
   "source": [
    "<a id='section1.3'></a>\n",
    "### Other Activation Functions\n",
    "\n",
    "In neural networks, these nonlinear functions are called **activation functions**. Here are some other commonly used activation functions:"
   ]
  },
  {
   "cell_type": "markdown",
   "metadata": {},
   "source": [
    "$\\textit{Sigmoid}$ is useful if you want only positive numbers. It is also the activation function that was used to introduce the idea of neural networks.\n",
    "<img src = \"IMAGES/sigmoid.png\" style=\"width:300px;height:250px\">\n",
    "$\\textit{Tanh}$ has many advantages over sigmoid since the activation function is centered at zero, and can output negative numbers. \n",
    "<img src = \"IMAGES/tanh.png\" style=\"width:300px;height:250px\">\n",
    "$\\textit{ReLU}$ (Rectified Linear Unit) is one of the most common activation functions used—you saw this earlier. In practice, $\\textit{ReLU}$ is often preferred over sigmoid and tanhbecause of the [vanishing gradient problem](https://en.wikipedia.org/wiki/Vanishing_gradient_problem).\n",
    "<img src = \"IMAGES/relu.png\" style=\"width:300px;height:250px\">"
   ]
  },
  {
   "cell_type": "markdown",
   "metadata": {},
   "source": [
    "<a id='section2'></a>\n",
    "\n",
    "## Neural Networks\n",
    "Neural networks derive their name from the neural network we have in our head, our brain. In a very highly simplified model, the brain is a collection of neurons that receives electrical input signals from dendrites, outputting electrical signals via a single axon. Each neuron sends signals along a single axon and connects with other dendrites. "
   ]
  },
  {
   "cell_type": "markdown",
   "metadata": {},
   "source": [
    "<img src= \"IMAGES/neuron_connection.gif\">\n"
   ]
  },
  {
   "cell_type": "markdown",
   "metadata": {},
   "source": [
    "Neural networks attempt to model this by having artificial layers neurons that perform minor tasks, then communicate from layer to layer. The collection of neurons operate together to begin to understand the raw input in layers - in each layer, the neurons summarize the data a little bit further, until they finally arrive at a single label.\n",
    "This sums up the feed forward neural network, which is what we'll be exploring today.\n",
    "\n",
    "Note: **feed forward** means that the neural network does not have any cycles. Neural networks with cycles (recurrent neural networks, for example) are very interesting, but we won't be covering them today."
   ]
  },
  {
   "cell_type": "markdown",
   "metadata": {},
   "source": [
    "<a id='section2.1'></a>\n",
    "### The Single Neuron\n",
    "\n",
    "Every neural network is comprised of many neurons connected with weights. The neuron itself is the backbone of the network, and each neuron accomplishes the following tasks:\n",
    "1. Receives information through weights pointing to that neural multiplied by the neuron the weight originated from.\n",
    "2. Applies the activation function $f$ to the sum of the weights multiplied by the previous neuron.\n",
    "3. Outputs this value to the next set of neurons."
   ]
  },
  {
   "cell_type": "markdown",
   "metadata": {},
   "source": [
    "<img src= \"IMAGES/biological_neuron.jpeg\">\n"
   ]
  },
  {
   "cell_type": "markdown",
   "metadata": {},
   "source": [
    "The diagram above shows a single neuron taking in other neurons' outputs $x_0$, $x_1$ and $x_2$ with weights $w_0$, $w_1$ and $w_2$, respectively. The output from the neuron is labeled as the output axon. The function $f$ is the activation function."
   ]
  },
  {
   "cell_type": "markdown",
   "metadata": {},
   "source": [
    "<a id='section2.2'></a>\n",
    "### Feedforward \n",
    "Most neural networks with the goal of classification or regression follow the feedforward model. The feedforward model always contains three essential parts.\n",
    "1. Inputs\n",
    "2. Hidden Layers\n",
    "3. Output (or result)\n",
    "\n",
    "An example of a feedforward neural network is shown below.\n"
   ]
  },
  {
   "cell_type": "markdown",
   "metadata": {},
   "source": [
    "<img src= \"IMAGES/feedforward.png\">\n",
    "\n"
   ]
  },
  {
   "cell_type": "markdown",
   "metadata": {},
   "source": [
    "In the diagram of a neural network shown above, the circles represent neurons, and the arrows represent the communication, or weights, between neurons. All neurons must connect to all neurons in the next layer.\n",
    "\n",
    "#### Intuitively, a feedforward neural network can consist of three levels with corresponding neurons:\n",
    "    \n",
    "1.\t**Input Layer**: Each neuron in the layer represents each of the features of a training point.\n",
    "2.\t**Hidden Layer** – The Hidden layers contain neurons that move numbers from the input neurons to the output neurons. They take in the inputs from the input layer. The number of neurons in the hidden layers are determined by the user (they are a hyperparameter!). There can be as many hidden layers as necessary depending on the problem.\n",
    "3.\t**Output Layer** – The neurons in the output layer are the results that the NN returns. "
   ]
  },
  {
   "cell_type": "markdown",
   "metadata": {},
   "source": [
    "Let's return to our example from earlier, where $y = \\cos{x}$ and $h(x) = \\hat{y} = \\sum_{i = 1}^N a_i \\cdot \\text{ReLU}(b_i + c_i \\cdot x)$. This is actually a neural network with one hidden layer!\n",
    "\n",
    "<img src= \"IMAGES/1 Layer NN.png\">"
   ]
  },
  {
   "cell_type": "markdown",
   "metadata": {},
   "source": [
    "<a id='section3'></a>\n",
    "## Gradient Descent, Learning\n",
    "\n",
    "Before we talk about how a neural network updates its weights, let's talk about optimization problems in machine learning more generally. An **unconstrained optimization problem** is the following:\n",
    "\n",
    "$$\\min_{x \\in \\mathbb{R}^n} f(x)$$"
   ]
  },
  {
   "cell_type": "markdown",
   "metadata": {},
   "source": [
    "If $f(x)$ is **convex** (don't worry too much about this), you can find the minimum by taking the derivative and setting the expression equal to zero.\n",
    "\n",
    "For example, if $f(x) = ax^2 + bx + c$, $\\frac{df}{dx} = 2ax + b = 0$, so the point $\\frac{-b}{2a}$ minimizes the function. However, it is often too difficult to solve the derivative equation, so instead, we perform an **online optimization** algorithm called **gradient descent**."
   ]
  },
  {
   "cell_type": "code",
   "execution_count": 6,
   "metadata": {
    "ExecuteTime": {
     "end_time": "2019-11-24T18:26:02.504991Z",
     "start_time": "2019-11-24T18:26:02.212469Z"
    }
   },
   "outputs": [
    {
     "data": {
      "image/png": "[encoded data removed]",
      "text/plain": [
       "<Figure size 432x288 with 1 Axes>"
      ]
     },
     "metadata": {
      "needs_background": "light"
     },
     "output_type": "display_data"
    }
   ],
   "source": [
    "a = 1\n",
    "b = 2\n",
    "c = -3\n",
    "\n",
    "x = np.arange(-5, 5, 0.01)\n",
    "y = a*np.square(x) + b*x + c\n",
    "\n",
    "plt.xlim((-6, 6))\n",
    "plt.ylim((-6, 36))\n",
    "plt.plot(x, y);"
   ]
  },
  {
   "cell_type": "markdown",
   "metadata": {},
   "source": [
    "Say that we start at the point $x = 3$. Let's examine the **tangent line** at $x = 3$."
   ]
  },
  {
   "cell_type": "code",
   "execution_count": 7,
   "metadata": {
    "ExecuteTime": {
     "end_time": "2019-11-24T18:26:02.807438Z",
     "start_time": "2019-11-24T18:26:02.507979Z"
    }
   },
   "outputs": [
    {
     "data": {
      "image/png": "[encoded data removed]",
      "text/plain": [
       "<Figure size 432x288 with 1 Axes>"
      ]
     },
     "metadata": {
      "needs_background": "light"
     },
     "output_type": "display_data"
    }
   ],
   "source": [
    "tangent = (a*9 + b*3 + c) + (2*a*3 + b)*(x - 3)\n",
    "\n",
    "plt.xlim((-6, 6))\n",
    "plt.ylim((-6, 36))\n",
    "plt.plot(x, y)\n",
    "plt.plot(x, tangent);"
   ]
  },
  {
   "cell_type": "markdown",
   "metadata": {},
   "source": [
    "A tangent line is also known as a **linear approximation** of a function. We should move our $x$ towards where the tangent line hits 0. It turns out that if we move our $x$ in the opposite direction of the derivative, then we'll hit the minimum!"
   ]
  },
  {
   "cell_type": "markdown",
   "metadata": {},
   "source": [
    "In our case, we are trying to solve the optimization problem:\n",
    "\n",
    "$$\\min_{\\text{model weights  } w} L(w)$$\n",
    "\n",
    "$w$ are the weights of our model, and $L$ is **loss** of our model as it predicts on our training data."
   ]
  },
  {
   "cell_type": "markdown",
   "metadata": {},
   "source": [
    "**Gradient descent** says that we should slowly move the weights $w$ in the opposite direction of the derivative of the loss."
   ]
  },
  {
   "cell_type": "markdown",
   "metadata": {},
   "source": [
    "<a id='section3.1'></a>\n",
    "### Gradient Descent Algorithm\n",
    "\n",
    "If we start at some model $w^{(0)}$, we can improve it with the following update.\n",
    "\n",
    "$$w^{(t)} = w^{(t - 1)} - \\epsilon \\nabla_w L(w)$$\n",
    "\n",
    "$\\nabla_w L(w)$ is called the **gradient** of the function $L$ at $w$: don't worry about this, think of it as a derivative of a vector. $\\epsilon$ is called the **learning rate**, or the size of each step you're moving your weights."
   ]
  },
  {
   "cell_type": "markdown",
   "metadata": {},
   "source": [
    "Here's an animation of gradient descent finding the minimum of a function in 3D represented by a contour plot.\n",
    "\n",
    "<img src='IMAGES/gradient_descent.gif'></img>"
   ]
  },
  {
   "cell_type": "markdown",
   "metadata": {},
   "source": [
    "<a id='section3.2'></a>\n",
    "### Loss Functions\n",
    "\n",
    "After a **forward pass** of your model, you create predictions for each of your training points $\\hat{y}_1, ..., \\hat{y}_n$. A loss function $L(y, \\hat{y})$ is how you evaluate how well you model performed on the data."
   ]
  },
  {
   "cell_type": "markdown",
   "metadata": {},
   "source": [
    "There are many losses to choose from: we'll focus on two today, for two separate tasks.\n",
    "\n",
    "For **regression**, which you've learned is predicting a **continuous** output variable, we often use **mean squared error**, which you've seen because it's the loss using linear regression.\n",
    "\n",
    "$$L(y, \\hat{y}) = \\sum_{i = 1}^n (y_i - \\hat{y}_i)^2$$\n",
    "\n",
    "For **classification**, which you'll be doing on the project and later in this lecture, you can use **categorical cross-entropy loss**, where $y_{ik}$ is 1 if the $i$th training point is in class $k$, 0 otherwise, and ${\\hat {y}}_{ik}$ is the model's probability that that the $i$th training point is in class $k$.\n",
    "\n",
    "$$L(y, \\hat{y}) = -\\sum_{i = 1}^n \\sum_{\\text{class } k} y_{ik} \\log {\\hat {y}}_{ik}$$\n",
    "\n",
    "The key thing to notice about the cross-entropy loss is that the loss drastically increases as the probability for the correct label approaches zero. If we output a very low probability for the correct class, the logarithm approaches very large negative values, resulting in a large loss. On the other hand, if we output a very high probability close to $1$ for the correct class, the loss is almost zero since $\\log 1 = 0$."
   ]
  },
  {
   "cell_type": "markdown",
   "metadata": {},
   "source": [
    "<a id='section3.3'></a>\n",
    "### Softmax (Classification)\n",
    "\n",
    "After you do your forward pass through your many neurons, you'll want to have the last layer be the number of classes in the output. Intuitively, the highest value in any of the neurons for a specific training point should be class that is predicted.\n",
    "\n",
    "However, in order to use **categorical cross-entropy loss** you need the probability that your training point is in each specific class, $\\hat{y}_{ik}$. So, we take these scores $s_1, ..., s_k$, and map them to:\n",
    "\n",
    "$$\\hat{y}_{ik} = \\frac{e^{s_k}}{\\sum e^{s_k}}$$\n",
    "\n",
    "This is called the **softmax** activation function, and it maps scores into a **probability distribution** over the classes. **Softmax** is crucial for most classification tasks in deep learning."
   ]
  },
  {
   "cell_type": "markdown",
   "metadata": {},
   "source": [
    "<a id='section3.4'></a>\n",
    "### Regularization, Dropout\n",
    "\n",
    "Since we can develop extremely complex models with neural networks, we need to perform **regularization** so we don't overfit. One thing you can do is to change the loss function so that it looks like **ridge regression** or **LASSO regression**, but you can also add **dropout**.\n",
    "\n",
    "Dropout means to randomly drop edges in the forward pass during training, so that only certain neurons are activated in a forward pass. This has an ensemble effect on the model, because you're now learning many different models, and in testing, you're essentially **averaging** their effects."
   ]
  },
  {
   "cell_type": "markdown",
   "metadata": {},
   "source": [
    "We now look at a specific example of a deep learning architecture through the MNIST Dataset, which is sort of the hello world example in deep learning."
   ]
  },
  {
   "cell_type": "markdown",
   "metadata": {},
   "source": [
    "<a id='section4'></a>\n",
    "# Intro to Keras"
   ]
  },
  {
   "cell_type": "markdown",
   "metadata": {},
   "source": [
    "<a id='section4.1'></a>\n",
    "### Understanding the MNIST Dataset\n",
    "The MNIST dataset consists of 70k images, 60k of which are considered the training set, with the remaining 10k for test. Each data entry $X_i$ in the MNIST dataset is a $28\\times28$ pixel image of a single handwritten digit, and each is labeled with the associated digit between $0$ and $9$, denoted as $y_i$. Our goal is to design a model that learns a classification scheme from the 60k training images $\\{X_i\\}$ and their labels $\\{y_i\\}$, and then perform well in predicting which digit is represented in each test image.\n",
    "\n",
    "#### Check for Understanding\n",
    ">How many different classes (e.g. different kinds of labels) are present in the MNIST dataset? <br>\n",
    "> Can you think of a particular pair of numbers that might be particularly difficult to differentiate, or prone to misclassification with each other?\n",
    "\n",
    "#### Acquiring the MNIST Dataset\n",
    "The MNIST data actually comes packaged with keras, a package which we will be using later to implement our deep learning model, by default. So, let's install keras and take a look at the dataset.\n",
    "\n"
   ]
  },
  {
   "cell_type": "code",
   "execution_count": 8,
   "metadata": {
    "ExecuteTime": {
     "end_time": "2019-11-24T18:26:14.346044Z",
     "start_time": "2019-11-24T18:26:02.810214Z"
    }
   },
   "outputs": [
    {
     "name": "stderr",
     "output_type": "stream",
     "text": [
      "Using TensorFlow backend.\n"
     ]
    },
    {
     "name": "stdout",
     "output_type": "stream",
     "text": [
      "Downloading data from https://s3.amazonaws.com/img-datasets/mnist.npz\n",
      "11493376/11490434 [==============================] - 6s 1us/step\n",
      "X_train original shape (60000, 28, 28)\n",
      "y_train original shape (60000,)\n"
     ]
    }
   ],
   "source": [
    "from keras.datasets import mnist\n",
    "num_classes = 10\n",
    "# The data, shuffled and split between tran and test sets\n",
    "(X_train, y_train), (X_test, y_test) = mnist.load_data()\n",
    "print(\"X_train original shape\", X_train.shape)\n",
    "print(\"y_train original shape\", y_train.shape)"
   ]
  },
  {
   "cell_type": "markdown",
   "metadata": {},
   "source": [
    "#### Structure of MNIST\n",
    "We can verify that the data entries $X$ of train consist of $60,000$ images of $28\\times28$ pixels in size. These entries come with labels $y_i$, one for each image $X_i$. A similar setup can be seen for the $10,000$ entries in test.\n",
    "\n",
    "Each image $X_i$ is represented by a two-dimensional array (i.e. $28\\times28$ matrix) of grayscale intensities ranging from $[0,255]$ to indicate the darkness of the ink at each pixel. $0$ represents a pixel that is completely white, and $255$ represents a pixel that is completely black."
   ]
  },
  {
   "cell_type": "code",
   "execution_count": 9,
   "metadata": {
    "ExecuteTime": {
     "end_time": "2019-11-24T18:26:45.433064Z",
     "start_time": "2019-11-24T18:26:44.909224Z"
    }
   },
   "outputs": [
    {
     "data": {
      "image/png": "[encoded data removed]",
      "text/plain": [
       "<Figure size 432x288 with 9 Axes>"
      ]
     },
     "metadata": {},
     "output_type": "display_data"
    }
   ],
   "source": [
    "def plot_images(images, cls_true, cls_pred=None):\n",
    "    assert len(images) == len(cls_true) == 9\n",
    "    # Create figure with 3x3 sub-plots.\n",
    "    fig, axes = plt.subplots(3, 3)\n",
    "    fig.subplots_adjust(hspace=0.3, wspace=0.3)\n",
    "    for i, ax in enumerate(axes.flat):\n",
    "        # Plot image.\n",
    "        ax.imshow(images[i].reshape((28, 28)), cmap='binary')\n",
    "        # Show true and predicted classes.\n",
    "        if cls_pred is None:\n",
    "            xlabel = \"True: {0}\".format(cls_true[i])\n",
    "        else:\n",
    "            xlabel = \"True: {0}, Pred: {1}\".format(cls_true[i], cls_pred[i])\n",
    "        # Show the classes as the label on the x-axis.\n",
    "        ax.set_xlabel(xlabel)\n",
    "        # Remove ticks from the plot.\n",
    "        ax.set_xticks([])\n",
    "        ax.set_yticks([])\n",
    "    plt.show();\n",
    "    \n",
    "plot_images(X_train[0:9], y_train[0:9])"
   ]
  },
  {
   "cell_type": "markdown",
   "metadata": {},
   "source": [
    "<a id='section4.2'></a>\n",
    "### Data Preprocessing\n",
    "The model we are working with requires flatten our two-dimensional arrays of $28\\times28$ pixels into $28\\times28=784$-dimensional vectors. For our label vector $y$, we use to_categorical to one-hot-encode our labels - this command transforms our scalars $y_i \\in [0,9]$ into binary class vectors $y'_i$."
   ]
  },
  {
   "cell_type": "code",
   "execution_count": 11,
   "metadata": {
    "ExecuteTime": {
     "end_time": "2019-11-24T18:27:26.973410Z",
     "start_time": "2019-11-24T18:27:26.967044Z"
    }
   },
   "outputs": [],
   "source": [
    "# reshape 2d (28x28) image data into 1d vectors (28x28 = 784-d vectors)\n",
    "X_train = X_train.reshape(X_train.shape[0], 784)\n",
    "X_test = X_test.reshape(X_test.shape[0], 784)"
   ]
  },
  {
   "cell_type": "code",
   "execution_count": 12,
   "metadata": {
    "ExecuteTime": {
     "end_time": "2019-11-24T18:27:27.964963Z",
     "start_time": "2019-11-24T18:27:27.952326Z"
    }
   },
   "outputs": [],
   "source": [
    "import keras\n",
    "# convert class labels into vectors. Ie 3 -> [0,0,0,1,0,0,0,0,0,0]\n",
    "y_train_oe = keras.utils.to_categorical(y_train, num_classes)\n",
    "y_test_oe = keras.utils.to_categorical(y_test, num_classes)"
   ]
  },
  {
   "cell_type": "code",
   "execution_count": 13,
   "metadata": {
    "ExecuteTime": {
     "end_time": "2019-11-24T18:27:28.778018Z",
     "start_time": "2019-11-24T18:27:28.770876Z"
    }
   },
   "outputs": [],
   "source": [
    "import keras\n",
    "from keras.models import Sequential\n",
    "from keras.layers import Dense"
   ]
  },
  {
   "cell_type": "markdown",
   "metadata": {},
   "source": [
    "<a id='section4.2'></a>\n",
    "### The Sequential Model\n",
    "The Sequential Model is a Linear Stack of Layers. You can add layers with the .add() method"
   ]
  },
  {
   "cell_type": "code",
   "execution_count": 14,
   "metadata": {
    "ExecuteTime": {
     "end_time": "2019-11-24T18:27:59.272873Z",
     "start_time": "2019-11-24T18:27:59.260807Z"
    }
   },
   "outputs": [],
   "source": [
    "model = Sequential()"
   ]
  },
  {
   "cell_type": "markdown",
   "metadata": {},
   "source": [
    "#### Specifying the input shape\n",
    "The model needs to know what input shape it should expect. For this reason, the first layer in a Sequential model (and only the first, because following layers can do automatic shape inference) needs to receive information about its input shape. "
   ]
  },
  {
   "cell_type": "code",
   "execution_count": 15,
   "metadata": {
    "ExecuteTime": {
     "end_time": "2019-11-24T18:28:49.510513Z",
     "start_time": "2019-11-24T18:28:49.396202Z"
    }
   },
   "outputs": [],
   "source": [
    "model.add(Dense(30, activation='relu', input_shape=(784,)))\n",
    "model.add(Dense(num_classes, activation='softmax'))"
   ]
  },
  {
   "cell_type": "markdown",
   "metadata": {},
   "source": [
    "<img src=\"IMAGES/softmax.png\">"
   ]
  },
  {
   "cell_type": "markdown",
   "metadata": {},
   "source": [
    "<a id='section4.3'></a>\n",
    "### Compilation\n",
    "Before training a model, you need to configure the learning process, which is done via the compile method. It receives three arguments:\n",
    "\n",
    "*   An optimizer. This could be the string identifier of an existing optimizer (such as rmsprop or adagrad), or an instance of the Optimizer class. \n",
    "*   A loss function. This is the objective that the model will try to minimize. It can be the string identifier of an existing loss function (such as categorical_crossentropy or mse), or it can be an objective function. See: losses.\n",
    "\n",
    "*   A list of metrics. For any classification problem you will want to set this to metrics=['accuracy']. A metric could be the string identifier of an existing metric or a custom metric function.\n"
   ]
  },
  {
   "cell_type": "code",
   "execution_count": 16,
   "metadata": {
    "ExecuteTime": {
     "end_time": "2019-11-24T18:38:06.344864Z",
     "start_time": "2019-11-24T18:38:06.017326Z"
    }
   },
   "outputs": [],
   "source": [
    "# For a mean squared error regression problem\n",
    "model.compile(optimizer='sgd', #How to Learn\n",
    "              loss='mse') #What to Learn\n",
    "# For a binary classification problem\n",
    "model.compile(optimizer='adam',\n",
    "              loss='binary_crossentropy',\n",
    "              metrics=['accuracy'])\n",
    "# For a multi-class classification problem\n",
    "model.compile(optimizer='rmsprop',\n",
    "              loss='categorical_crossentropy',\n",
    "              metrics=['accuracy'])"
   ]
  },
  {
   "cell_type": "markdown",
   "metadata": {},
   "source": [
    "<a id='section4.4'></a>\n",
    "### Training\n",
    "Now that the model has been fully defined with loss-function and optimizer, we can train it. This function takes numpy-arrays and performs the given number of training epochs using the given batch-size. An epoch is one full use of the entire training-set. So for 10 epochs we would iterate randomly over the entire training-set 10 times"
   ]
  },
  {
   "cell_type": "code",
   "execution_count": 17,
   "metadata": {
    "ExecuteTime": {
     "end_time": "2019-11-24T18:38:59.651083Z",
     "start_time": "2019-11-24T18:38:45.169066Z"
    }
   },
   "outputs": [
    {
     "name": "stdout",
     "output_type": "stream",
     "text": [
      "Epoch 1/10\n",
      "60000/60000 [==============================] - 2s 27us/step - loss: 4.1904 - accuracy: 0.7166\n",
      "Epoch 2/10\n",
      "60000/60000 [==============================] - 1s 23us/step - loss: 0.6465 - accuracy: 0.8567\n",
      "Epoch 3/10\n",
      "60000/60000 [==============================] - 1s 22us/step - loss: 0.4947 - accuracy: 0.8890\n",
      "Epoch 4/10\n",
      "60000/60000 [==============================] - 1s 23us/step - loss: 0.4156 - accuracy: 0.9075\n",
      "Epoch 5/10\n",
      "60000/60000 [==============================] - 1s 23us/step - loss: 0.3677 - accuracy: 0.9149\n",
      "Epoch 6/10\n",
      "60000/60000 [==============================] - 1s 23us/step - loss: 0.3289 - accuracy: 0.9229\n",
      "Epoch 7/10\n",
      "60000/60000 [==============================] - 1s 23us/step - loss: 0.3033 - accuracy: 0.9287\n",
      "Epoch 8/10\n",
      "60000/60000 [==============================] - 1s 23us/step - loss: 0.2860 - accuracy: 0.9314\n",
      "Epoch 9/10\n",
      "60000/60000 [==============================] - 1s 24us/step - loss: 0.2710 - accuracy: 0.9351\n",
      "Epoch 10/10\n",
      "60000/60000 [==============================] - 1s 24us/step - loss: 0.2669 - accuracy: 0.9368\n"
     ]
    },
    {
     "data": {
      "text/plain": [
       "<keras.callbacks.callbacks.History at 0x115ecfd30>"
      ]
     },
     "execution_count": 17,
     "metadata": {},
     "output_type": "execute_result"
    }
   ],
   "source": [
    "model.fit(x=X_train, y=y_train_oe, epochs=10, batch_size=128)"
   ]
  },
  {
   "cell_type": "markdown",
   "metadata": {
    "ExecuteTime": {
     "end_time": "2018-11-12T05:30:44.209264Z",
     "start_time": "2018-11-12T05:30:44.190749Z"
    }
   },
   "source": [
    "<a id='section4.5'></a>\n",
    "### Evaluation\n",
    "Now that the model has been trained we can test its performance on the test-set. This also uses numpy-arrays as input."
   ]
  },
  {
   "cell_type": "code",
   "execution_count": 18,
   "metadata": {
    "ExecuteTime": {
     "end_time": "2019-11-24T18:39:07.685158Z",
     "start_time": "2019-11-24T18:39:07.180525Z"
    }
   },
   "outputs": [
    {
     "name": "stdout",
     "output_type": "stream",
     "text": [
      "10000/10000 [==============================] - 0s 39us/step\n",
      "Evaluation error: 0.375272 \n",
      "Test accuracy: 93.180001\n"
     ]
    }
   ],
   "source": [
    "result = model.evaluate(x=X_test, y=y_test_oe)\n",
    "print(\"Evaluation error: %f \\nTest accuracy: %f\" % (result[0], result[1] * 100))"
   ]
  },
  {
   "cell_type": "markdown",
   "metadata": {},
   "source": [
    "<a id='section4.6'></a>\n",
    "### Prediction\n",
    "We can also predict the classification for new images. We will just use some images from the test-set but you could load your own images into numpy arrays and use those instead."
   ]
  },
  {
   "cell_type": "code",
   "execution_count": 23,
   "metadata": {
    "ExecuteTime": {
     "end_time": "2019-11-24T18:46:48.474024Z",
     "start_time": "2019-11-24T18:46:48.232208Z"
    }
   },
   "outputs": [],
   "source": [
    "y_pred = model.predict(x=X_test)"
   ]
  },
  {
   "cell_type": "markdown",
   "metadata": {},
   "source": [
    "Then we convert the predicted class-numbers from One-Hot encoded arrays to integers."
   ]
  },
  {
   "cell_type": "code",
   "execution_count": 24,
   "metadata": {
    "ExecuteTime": {
     "end_time": "2019-11-24T18:46:49.153029Z",
     "start_time": "2019-11-24T18:46:49.138983Z"
    }
   },
   "outputs": [
    {
     "name": "stdout",
     "output_type": "stream",
     "text": [
      "[7 2 1 0 4]\n"
     ]
    }
   ],
   "source": [
    "cls_pred = np.argmax(y_pred, axis=1)\n",
    "print(cls_pred[:5])"
   ]
  },
  {
   "cell_type": "markdown",
   "metadata": {},
   "source": [
    "<a id='section4.7'></a>\n",
    "### Examples of Mis-Classified Images\n",
    "We can plot some examples of mis-classified images from the test-set."
   ]
  },
  {
   "cell_type": "code",
   "execution_count": 25,
   "metadata": {
    "ExecuteTime": {
     "end_time": "2019-11-24T18:46:49.918014Z",
     "start_time": "2019-11-24T18:46:49.904166Z"
    }
   },
   "outputs": [],
   "source": [
    "def plot_images(images, cls_true, cls_pred=None):\n",
    "    assert len(images) == len(cls_true) == 9\n",
    "    # Create figure with 3x3 sub-plots.\n",
    "    fig, axes = plt.subplots(3, 3)\n",
    "    fig.subplots_adjust(hspace=0.3, wspace=0.3)\n",
    "    for i, ax in enumerate(axes.flat):\n",
    "        # Plot image.\n",
    "        ax.imshow(images[i].reshape((28, 28)), cmap='binary')\n",
    "        # Show true and predicted classes.\n",
    "        if cls_pred is None:\n",
    "            xlabel = \"True: {0}\".format(cls_true[i])\n",
    "        else:\n",
    "            xlabel = \"True: {0}, Pred: {1}\".format(cls_true[i], cls_pred[i])\n",
    "        # Show the classes as the label on the x-axis.\n",
    "        ax.set_xlabel(xlabel)\n",
    "        # Remove ticks from the plot.\n",
    "        ax.set_xticks([])\n",
    "        ax.set_yticks([])\n",
    "    plt.show();"
   ]
  },
  {
   "cell_type": "code",
   "execution_count": 26,
   "metadata": {
    "ExecuteTime": {
     "end_time": "2019-11-24T18:46:50.523328Z",
     "start_time": "2019-11-24T18:46:50.507718Z"
    }
   },
   "outputs": [],
   "source": [
    "def plot_example_errors(cls_pred):\n",
    "    # cls_pred is an array of the predicted class-number for all images in the test-set.\n",
    "    # Boolean array whether the predicted class is incorrect.\n",
    "    incorrect = (cls_pred != y_test)\n",
    "    # Get the images from the test-set that have been\n",
    "    # incorrectly classified.\n",
    "    images = X_test[incorrect]\n",
    "    # Get the predicted classes for those images.\n",
    "    cls_pred = cls_pred[incorrect]\n",
    "    # Get the true classes for those images.\n",
    "    cls_true = y_test[incorrect]\n",
    "    # Plot the first 9 images.\n",
    "    plot_images(images=images[0:9],\n",
    "                cls_true=cls_true[0:9],\n",
    "                cls_pred=cls_pred[0:9])"
   ]
  },
  {
   "cell_type": "code",
   "execution_count": 27,
   "metadata": {
    "ExecuteTime": {
     "end_time": "2019-11-24T18:46:51.744325Z",
     "start_time": "2019-11-24T18:46:51.252915Z"
    }
   },
   "outputs": [
    {
     "data": {
      "image/png": "[encoded data removed]",
      "text/plain": [
       "<Figure size 432x288 with 9 Axes>"
      ]
     },
     "metadata": {},
     "output_type": "display_data"
    }
   ],
   "source": [
    "plot_example_errors(cls_pred)"
   ]
  },
  {
   "cell_type": "markdown",
   "metadata": {},
   "source": [
    "### Sources Cited\n",
    "https://ujjwalkarn.me/2016/08/09/quick-intro-neural-networks/\n",
    "\n",
    "https://becominghuman.ai/deep-learning-made-easy-with-deep-cognition-403fbe445351?gi=306188a6ff43\n",
    "\n",
    "http://www.saedsayad.com/artificial_neural_network.htm\n",
    "\n",
    "https://www.neuraldesigner.com/blog/perceptron-the-main-component-of-neural-networks\n",
    "\n",
    "https://www.researchgate.net/figure/Examples-of-2s-in-the-MNIST-database-first-100-examples-Note-the-very-diverse_fig1_2540340"
   ]
  }
 ],
 "metadata": {
  "hide_input": false,
  "kernelspec": {
   "display_name": "Python 3",
   "language": "python",
   "name": "python3"
  },
  "language_info": {
   "codemirror_mode": {
    "name": "ipython",
    "version": 3
   },
   "file_extension": ".py",
   "mimetype": "text/x-python",
   "name": "python",
   "nbconvert_exporter": "python",
   "pygments_lexer": "ipython3",
   "version": "3.7.1"
  },
  "toc": {
   "nav_menu": {},
   "number_sections": false,
   "sideBar": true,
   "skip_h1_title": false,
   "toc_cell": false,
   "toc_position": {},
   "toc_section_display": "block",
   "toc_window_display": false
  }
 },
 "nbformat": 4,
 "nbformat_minor": 2
}
